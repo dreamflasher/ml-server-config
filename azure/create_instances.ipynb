{
 "cells": [
  {
   "cell_type": "markdown",
   "metadata": {},
   "source": [
    "This notebook shows how to create Azure VMs in all regions via az cli"
   ]
  },
  {
   "cell_type": "code",
   "execution_count": null,
   "metadata": {},
   "outputs": [],
   "source": [
    "import os"
   ]
  },
  {
   "cell_type": "markdown",
   "metadata": {},
   "source": [
    "List all available regions in azure"
   ]
  },
  {
   "cell_type": "code",
   "execution_count": 1,
   "metadata": {},
   "outputs": [
    {
     "name": "stdout",
     "output_type": "stream",
     "text": [
      "DisplayName               Name                 RegionalDisplayName\n",
      "------------------------  -------------------  -------------------------------------\n",
      "East US                   eastus               (US) East US\n",
      "East US 2                 eastus2              (US) East US 2\n",
      "South Central US          southcentralus       (US) South Central US\n",
      "West US 2                 westus2              (US) West US 2\n",
      "West US 3                 westus3              (US) West US 3\n",
      "Australia East            australiaeast        (Asia Pacific) Australia East\n",
      "Southeast Asia            southeastasia        (Asia Pacific) Southeast Asia\n",
      "North Europe              northeurope          (Europe) North Europe\n",
      "Sweden Central            swedencentral        (Europe) Sweden Central\n",
      "UK South                  uksouth              (Europe) UK South\n",
      "West Europe               westeurope           (Europe) West Europe\n",
      "Central US                centralus            (US) Central US\n",
      "North Central US          northcentralus       (US) North Central US\n",
      "West US                   westus               (US) West US\n",
      "South Africa North        southafricanorth     (Africa) South Africa North\n",
      "Central India             centralindia         (Asia Pacific) Central India\n",
      "East Asia                 eastasia             (Asia Pacific) East Asia\n",
      "Japan East                japaneast            (Asia Pacific) Japan East\n",
      "Jio India West            jioindiawest         (Asia Pacific) Jio India West\n",
      "Korea Central             koreacentral         (Asia Pacific) Korea Central\n",
      "Canada Central            canadacentral        (Canada) Canada Central\n",
      "France Central            francecentral        (Europe) France Central\n",
      "Germany West Central      germanywestcentral   (Europe) Germany West Central\n",
      "Norway East               norwayeast           (Europe) Norway East\n",
      "Switzerland North         switzerlandnorth     (Europe) Switzerland North\n",
      "UAE North                 uaenorth             (Middle East) UAE North\n",
      "Brazil South              brazilsouth          (South America) Brazil South\n",
      "Central US (Stage)        centralusstage       (US) Central US (Stage)\n",
      "East US (Stage)           eastusstage          (US) East US (Stage)\n",
      "East US 2 (Stage)         eastus2stage         (US) East US 2 (Stage)\n",
      "North Central US (Stage)  northcentralusstage  (US) North Central US (Stage)\n",
      "South Central US (Stage)  southcentralusstage  (US) South Central US (Stage)\n",
      "West US (Stage)           westusstage          (US) West US (Stage)\n",
      "West US 2 (Stage)         westus2stage         (US) West US 2 (Stage)\n",
      "Asia                      asia                 Asia\n",
      "Asia Pacific              asiapacific          Asia Pacific\n",
      "Australia                 australia            Australia\n",
      "Brazil                    brazil               Brazil\n",
      "Canada                    canada               Canada\n",
      "Europe                    europe               Europe\n",
      "France                    france               France\n",
      "Germany                   germany              Germany\n",
      "Global                    global               Global\n",
      "India                     india                India\n",
      "Japan                     japan                Japan\n",
      "Korea                     korea                Korea\n",
      "Norway                    norway               Norway\n",
      "South Africa              southafrica          South Africa\n",
      "Switzerland               switzerland          Switzerland\n",
      "United Arab Emirates      uae                  United Arab Emirates\n",
      "United Kingdom            uk                   United Kingdom\n",
      "United States             unitedstates         United States\n",
      "United States EUAP        unitedstateseuap     United States EUAP\n",
      "East Asia (Stage)         eastasiastage        (Asia Pacific) East Asia (Stage)\n",
      "Southeast Asia (Stage)    southeastasiastage   (Asia Pacific) Southeast Asia (Stage)\n",
      "Central US EUAP           centraluseuap        (US) Central US EUAP\n",
      "East US 2 EUAP            eastus2euap          (US) East US 2 EUAP\n",
      "West Central US           westcentralus        (US) West Central US\n",
      "South Africa West         southafricawest      (Africa) South Africa West\n",
      "Australia Central         australiacentral     (Asia Pacific) Australia Central\n",
      "Australia Central 2       australiacentral2    (Asia Pacific) Australia Central 2\n",
      "Australia Southeast       australiasoutheast   (Asia Pacific) Australia Southeast\n",
      "Japan West                japanwest            (Asia Pacific) Japan West\n",
      "Jio India Central         jioindiacentral      (Asia Pacific) Jio India Central\n",
      "Korea South               koreasouth           (Asia Pacific) Korea South\n",
      "South India               southindia           (Asia Pacific) South India\n",
      "West India                westindia            (Asia Pacific) West India\n",
      "Canada East               canadaeast           (Canada) Canada East\n",
      "France South              francesouth          (Europe) France South\n",
      "Germany North             germanynorth         (Europe) Germany North\n",
      "Norway West               norwaywest           (Europe) Norway West\n",
      "Switzerland West          switzerlandwest      (Europe) Switzerland West\n",
      "UK West                   ukwest               (Europe) UK West\n",
      "UAE Central               uaecentral           (Middle East) UAE Central\n",
      "Brazil Southeast          brazilsoutheast      (South America) Brazil Southeast\n"
     ]
    }
   ],
   "source": [
    "\n",
    "!az account list-locations -o table"
   ]
  },
  {
   "cell_type": "code",
   "execution_count": 4,
   "metadata": {},
   "outputs": [
    {
     "data": {
      "text/plain": [
       "72"
      ]
     },
     "execution_count": 4,
     "metadata": {},
     "output_type": "execute_result"
    }
   ],
   "source": [
    "all_regions = [\"eastus\", \"eastus2\", \"southcentralus\", \"westus2\", \"westus3\", \"australiaeast\", \"southeastasia\", \"northeurope\", \"swedencentral\", \"uksouth\", \"westeurope\", \"centralus\", \"northcentralus\", \"westus\", \"southafricanorth\", \"centralindia\", \"eastasia\", \"japaneast\", \"jioindiawest\", \"koreacentral\", \"canadacentral\", \"francecentral\", \"germanywestcentral\", \"norwayeast\", \"switzerlandnorth\", \"uaenorth\", \"brazilsouth\", \"centralusstage\", \"eastusstage\", \"eastus2stage\", \"northcentralusstage\", \"southcentralusstage\", \"westusstage\", \"westus2stage\", \"asia\", \"asiapacific\", \"australia\", \"brazil\", \"canada\", \"europe\", \"france\", \"germany\", \"global\", \"india\", \"japan\", \"korea\", \"norway\", \"southafrica\", \"switzerland\", \"uae\", \"uk\", \"unitedstates\", \"unitedstateseuap\", \"eastasiastage\", \"southeastasiastage\", \"centraluseuap\", \"eastus2euap\", \"westcentralus\", \"southafricawest\", \"australiacentral\", \"australiacentral2\", \"australiasoutheast\", \"japanwest\", \"jioindiacentral\", \"koreasouth\", \"southindia\", \"westindia\", \"canadaeast\", \"francesouth\", \"germanynorth\", \"norwaywest\", \"switzerlandwest\", \"ukwest\", \"uaecentral\", \"brazilsoutheast\"]\n",
    "# from error message we see the allowed regions:\n",
    "all_regions = [\"australiacentral\",\"australiacentral2\",\"australiaeast\",\"australiasoutheast\",\"brazilsouth\",\"brazilsoutheast\",\"canadacentral\",\"canadaeast\",\"centralindia\",\"centralus\",\"centraluseuap\",\"eastasia\",\"eastus\",\"eastus2\",\"eastus2euap\",\"francecentral\",\"francesouth\",\"germanynorth\",\"germanywestcentral\",\"japaneast\",\"japanwest\",\"koreacentral\",\"koreasouth\",\"northcentralus\",\"northeurope\",\"norwayeast\",\"norwaywest\",\"southafricanorth\",\"southafricawest\",\"southcentralus\",\"southeastasia\",\"southindia\",\"swedencentral\",\"swedensouth\",\"switzerlandnorth\",\"switzerlandwest\",\"uaecentral\",\"uaenorth\",\"uksouth\",\"ukwest\",\"westcentralus\",\"westeurope\",\"westindia\",\"westus\",\"westus2\",\"westus3\",\"asia\",\"asiapacific\",\"australia\",\"brazil\",\"canada\",\"devfabric\",\"europe\",\"global\",\"india\",\"japan\",\"northwestus\",\"uk\",\"france\",\"germany\",\"switzerland\",\"korea\",\"norway\",\"uae\",\"southafrica\",\"unitedstates\",\"unitedstateseuap\",\"westuspartner\",\"eastusslv\",\"israelcentral\",\"polandcentral\",\"qatarcentral\"]\n",
    "len(all_regions)"
   ]
  },
  {
   "cell_type": "code",
   "execution_count": null,
   "metadata": {},
   "outputs": [],
   "source": [
    "for region in all_regions:\n",
    "    !az vm create --resource-group ackermann  --name mnc4ast4{region}_1 --location {region} --image Canonical:0001-com-ubuntu-server-focal:20_04-lts-gen2:latest --admin-username marcel --os-disk-size-gb 128 --size Standard_NC4as_T4_v3 --ultra-ssd-enabled false --ssh-key-values ~/.ssh/authorized_keys --storage-sku StandardSSD_LRS --public-ip-address-allocation static --subscription ML-nonprod --priority Spot"
   ]
  },
  {
   "cell_type": "code",
   "execution_count": null,
   "metadata": {},
   "outputs": [],
   "source": []
  }
 ],
 "metadata": {
  "interpreter": {
   "hash": "aee8b7b246df8f9039afb4144a1f6fd8d2ca17a180786b69acc140d282b71a49"
  },
  "kernelspec": {
   "display_name": "Python 3.9.11 64-bit",
   "language": "python",
   "name": "python3"
  },
  "language_info": {
   "codemirror_mode": {
    "name": "ipython",
    "version": 3
   },
   "file_extension": ".py",
   "mimetype": "text/x-python",
   "name": "python",
   "nbconvert_exporter": "python",
   "pygments_lexer": "ipython3",
   "version": "3.9.10"
  },
  "orig_nbformat": 4
 },
 "nbformat": 4,
 "nbformat_minor": 2
}
